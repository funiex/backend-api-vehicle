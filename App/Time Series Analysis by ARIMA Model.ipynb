{
 "cells": [
  {
   "cell_type": "code",
   "execution_count": 49,
   "id": "eafa3a49",
   "metadata": {},
   "outputs": [
    {
     "ename": "ParserError",
     "evalue": "Error tokenizing data. C error: Expected 1 fields in line 3, saw 2\n",
     "output_type": "error",
     "traceback": [
      "\u001b[0;31m---------------------------------------------------------------------------\u001b[0m",
      "\u001b[0;31mParserError\u001b[0m                               Traceback (most recent call last)",
      "\u001b[0;32m/var/folders/xj/kc30fr6x0ls9hltp2fxn8h700000gn/T/ipykernel_11125/1984106049.py\u001b[0m in \u001b[0;36m<module>\u001b[0;34m\u001b[0m\n\u001b[1;32m      2\u001b[0m \u001b[0;32mimport\u001b[0m \u001b[0mnumpy\u001b[0m \u001b[0;32mas\u001b[0m \u001b[0mnp\u001b[0m                      \u001b[0;31m#used to convert input into numpy arrays to be fed to the model\u001b[0m\u001b[0;34m\u001b[0m\u001b[0;34m\u001b[0m\u001b[0m\n\u001b[1;32m      3\u001b[0m \u001b[0;32mimport\u001b[0m \u001b[0mmatplotlib\u001b[0m\u001b[0;34m.\u001b[0m\u001b[0mpyplot\u001b[0m \u001b[0;32mas\u001b[0m \u001b[0mplt\u001b[0m         \u001b[0;31m#to plot/visualize sales data and sales forecasting\u001b[0m\u001b[0;34m\u001b[0m\u001b[0;34m\u001b[0m\u001b[0m\n\u001b[0;32m----> 4\u001b[0;31m \u001b[0mdf\u001b[0m \u001b[0;34m=\u001b[0m \u001b[0mpd\u001b[0m\u001b[0;34m.\u001b[0m\u001b[0mread_csv\u001b[0m\u001b[0;34m(\u001b[0m\u001b[0;34m'https://retoolapi.dev/x1GTna/data'\u001b[0m\u001b[0;34m)\u001b[0m\u001b[0;34m\u001b[0m\u001b[0;34m\u001b[0m\u001b[0m\n\u001b[0m\u001b[1;32m      5\u001b[0m \u001b[0mdf\u001b[0m\u001b[0;34m\u001b[0m\u001b[0;34m\u001b[0m\u001b[0m\n\u001b[1;32m      6\u001b[0m \u001b[0;34m\u001b[0m\u001b[0m\n",
      "\u001b[0;32m~/opt/anaconda3/lib/python3.9/site-packages/pandas/util/_decorators.py\u001b[0m in \u001b[0;36mwrapper\u001b[0;34m(*args, **kwargs)\u001b[0m\n\u001b[1;32m    309\u001b[0m                     \u001b[0mstacklevel\u001b[0m\u001b[0;34m=\u001b[0m\u001b[0mstacklevel\u001b[0m\u001b[0;34m,\u001b[0m\u001b[0;34m\u001b[0m\u001b[0;34m\u001b[0m\u001b[0m\n\u001b[1;32m    310\u001b[0m                 )\n\u001b[0;32m--> 311\u001b[0;31m             \u001b[0;32mreturn\u001b[0m \u001b[0mfunc\u001b[0m\u001b[0;34m(\u001b[0m\u001b[0;34m*\u001b[0m\u001b[0margs\u001b[0m\u001b[0;34m,\u001b[0m \u001b[0;34m**\u001b[0m\u001b[0mkwargs\u001b[0m\u001b[0;34m)\u001b[0m\u001b[0;34m\u001b[0m\u001b[0;34m\u001b[0m\u001b[0m\n\u001b[0m\u001b[1;32m    312\u001b[0m \u001b[0;34m\u001b[0m\u001b[0m\n\u001b[1;32m    313\u001b[0m         \u001b[0;32mreturn\u001b[0m \u001b[0mwrapper\u001b[0m\u001b[0;34m\u001b[0m\u001b[0;34m\u001b[0m\u001b[0m\n",
      "\u001b[0;32m~/opt/anaconda3/lib/python3.9/site-packages/pandas/io/parsers/readers.py\u001b[0m in \u001b[0;36mread_csv\u001b[0;34m(filepath_or_buffer, sep, delimiter, header, names, index_col, usecols, squeeze, prefix, mangle_dupe_cols, dtype, engine, converters, true_values, false_values, skipinitialspace, skiprows, skipfooter, nrows, na_values, keep_default_na, na_filter, verbose, skip_blank_lines, parse_dates, infer_datetime_format, keep_date_col, date_parser, dayfirst, cache_dates, iterator, chunksize, compression, thousands, decimal, lineterminator, quotechar, quoting, doublequote, escapechar, comment, encoding, encoding_errors, dialect, error_bad_lines, warn_bad_lines, on_bad_lines, delim_whitespace, low_memory, memory_map, float_precision, storage_options)\u001b[0m\n\u001b[1;32m    584\u001b[0m     \u001b[0mkwds\u001b[0m\u001b[0;34m.\u001b[0m\u001b[0mupdate\u001b[0m\u001b[0;34m(\u001b[0m\u001b[0mkwds_defaults\u001b[0m\u001b[0;34m)\u001b[0m\u001b[0;34m\u001b[0m\u001b[0;34m\u001b[0m\u001b[0m\n\u001b[1;32m    585\u001b[0m \u001b[0;34m\u001b[0m\u001b[0m\n\u001b[0;32m--> 586\u001b[0;31m     \u001b[0;32mreturn\u001b[0m \u001b[0m_read\u001b[0m\u001b[0;34m(\u001b[0m\u001b[0mfilepath_or_buffer\u001b[0m\u001b[0;34m,\u001b[0m \u001b[0mkwds\u001b[0m\u001b[0;34m)\u001b[0m\u001b[0;34m\u001b[0m\u001b[0;34m\u001b[0m\u001b[0m\n\u001b[0m\u001b[1;32m    587\u001b[0m \u001b[0;34m\u001b[0m\u001b[0m\n\u001b[1;32m    588\u001b[0m \u001b[0;34m\u001b[0m\u001b[0m\n",
      "\u001b[0;32m~/opt/anaconda3/lib/python3.9/site-packages/pandas/io/parsers/readers.py\u001b[0m in \u001b[0;36m_read\u001b[0;34m(filepath_or_buffer, kwds)\u001b[0m\n\u001b[1;32m    486\u001b[0m \u001b[0;34m\u001b[0m\u001b[0m\n\u001b[1;32m    487\u001b[0m     \u001b[0;32mwith\u001b[0m \u001b[0mparser\u001b[0m\u001b[0;34m:\u001b[0m\u001b[0;34m\u001b[0m\u001b[0;34m\u001b[0m\u001b[0m\n\u001b[0;32m--> 488\u001b[0;31m         \u001b[0;32mreturn\u001b[0m \u001b[0mparser\u001b[0m\u001b[0;34m.\u001b[0m\u001b[0mread\u001b[0m\u001b[0;34m(\u001b[0m\u001b[0mnrows\u001b[0m\u001b[0;34m)\u001b[0m\u001b[0;34m\u001b[0m\u001b[0;34m\u001b[0m\u001b[0m\n\u001b[0m\u001b[1;32m    489\u001b[0m \u001b[0;34m\u001b[0m\u001b[0m\n\u001b[1;32m    490\u001b[0m \u001b[0;34m\u001b[0m\u001b[0m\n",
      "\u001b[0;32m~/opt/anaconda3/lib/python3.9/site-packages/pandas/io/parsers/readers.py\u001b[0m in \u001b[0;36mread\u001b[0;34m(self, nrows)\u001b[0m\n\u001b[1;32m   1045\u001b[0m     \u001b[0;32mdef\u001b[0m \u001b[0mread\u001b[0m\u001b[0;34m(\u001b[0m\u001b[0mself\u001b[0m\u001b[0;34m,\u001b[0m \u001b[0mnrows\u001b[0m\u001b[0;34m=\u001b[0m\u001b[0;32mNone\u001b[0m\u001b[0;34m)\u001b[0m\u001b[0;34m:\u001b[0m\u001b[0;34m\u001b[0m\u001b[0;34m\u001b[0m\u001b[0m\n\u001b[1;32m   1046\u001b[0m         \u001b[0mnrows\u001b[0m \u001b[0;34m=\u001b[0m \u001b[0mvalidate_integer\u001b[0m\u001b[0;34m(\u001b[0m\u001b[0;34m\"nrows\"\u001b[0m\u001b[0;34m,\u001b[0m \u001b[0mnrows\u001b[0m\u001b[0;34m)\u001b[0m\u001b[0;34m\u001b[0m\u001b[0;34m\u001b[0m\u001b[0m\n\u001b[0;32m-> 1047\u001b[0;31m         \u001b[0mindex\u001b[0m\u001b[0;34m,\u001b[0m \u001b[0mcolumns\u001b[0m\u001b[0;34m,\u001b[0m \u001b[0mcol_dict\u001b[0m \u001b[0;34m=\u001b[0m \u001b[0mself\u001b[0m\u001b[0;34m.\u001b[0m\u001b[0m_engine\u001b[0m\u001b[0;34m.\u001b[0m\u001b[0mread\u001b[0m\u001b[0;34m(\u001b[0m\u001b[0mnrows\u001b[0m\u001b[0;34m)\u001b[0m\u001b[0;34m\u001b[0m\u001b[0;34m\u001b[0m\u001b[0m\n\u001b[0m\u001b[1;32m   1048\u001b[0m \u001b[0;34m\u001b[0m\u001b[0m\n\u001b[1;32m   1049\u001b[0m         \u001b[0;32mif\u001b[0m \u001b[0mindex\u001b[0m \u001b[0;32mis\u001b[0m \u001b[0;32mNone\u001b[0m\u001b[0;34m:\u001b[0m\u001b[0;34m\u001b[0m\u001b[0;34m\u001b[0m\u001b[0m\n",
      "\u001b[0;32m~/opt/anaconda3/lib/python3.9/site-packages/pandas/io/parsers/c_parser_wrapper.py\u001b[0m in \u001b[0;36mread\u001b[0;34m(self, nrows)\u001b[0m\n\u001b[1;32m    221\u001b[0m         \u001b[0;32mtry\u001b[0m\u001b[0;34m:\u001b[0m\u001b[0;34m\u001b[0m\u001b[0;34m\u001b[0m\u001b[0m\n\u001b[1;32m    222\u001b[0m             \u001b[0;32mif\u001b[0m \u001b[0mself\u001b[0m\u001b[0;34m.\u001b[0m\u001b[0mlow_memory\u001b[0m\u001b[0;34m:\u001b[0m\u001b[0;34m\u001b[0m\u001b[0;34m\u001b[0m\u001b[0m\n\u001b[0;32m--> 223\u001b[0;31m                 \u001b[0mchunks\u001b[0m \u001b[0;34m=\u001b[0m \u001b[0mself\u001b[0m\u001b[0;34m.\u001b[0m\u001b[0m_reader\u001b[0m\u001b[0;34m.\u001b[0m\u001b[0mread_low_memory\u001b[0m\u001b[0;34m(\u001b[0m\u001b[0mnrows\u001b[0m\u001b[0;34m)\u001b[0m\u001b[0;34m\u001b[0m\u001b[0;34m\u001b[0m\u001b[0m\n\u001b[0m\u001b[1;32m    224\u001b[0m                 \u001b[0;31m# destructive to chunks\u001b[0m\u001b[0;34m\u001b[0m\u001b[0;34m\u001b[0m\u001b[0m\n\u001b[1;32m    225\u001b[0m                 \u001b[0mdata\u001b[0m \u001b[0;34m=\u001b[0m \u001b[0m_concatenate_chunks\u001b[0m\u001b[0;34m(\u001b[0m\u001b[0mchunks\u001b[0m\u001b[0;34m)\u001b[0m\u001b[0;34m\u001b[0m\u001b[0;34m\u001b[0m\u001b[0m\n",
      "\u001b[0;32m~/opt/anaconda3/lib/python3.9/site-packages/pandas/_libs/parsers.pyx\u001b[0m in \u001b[0;36mpandas._libs.parsers.TextReader.read_low_memory\u001b[0;34m()\u001b[0m\n",
      "\u001b[0;32m~/opt/anaconda3/lib/python3.9/site-packages/pandas/_libs/parsers.pyx\u001b[0m in \u001b[0;36mpandas._libs.parsers.TextReader._read_rows\u001b[0;34m()\u001b[0m\n",
      "\u001b[0;32m~/opt/anaconda3/lib/python3.9/site-packages/pandas/_libs/parsers.pyx\u001b[0m in \u001b[0;36mpandas._libs.parsers.TextReader._tokenize_rows\u001b[0;34m()\u001b[0m\n",
      "\u001b[0;32m~/opt/anaconda3/lib/python3.9/site-packages/pandas/_libs/parsers.pyx\u001b[0m in \u001b[0;36mpandas._libs.parsers.raise_parser_error\u001b[0;34m()\u001b[0m\n",
      "\u001b[0;31mParserError\u001b[0m: Error tokenizing data. C error: Expected 1 fields in line 3, saw 2\n"
     ]
    }
   ],
   "source": [
    "import pandas as pd                     # to extract data from dataset(.csv file)                           #used to read and write to csv files\n",
    "import numpy as np                      #used to convert input into numpy arrays to be fed to the model\n",
    "import matplotlib.pyplot as plt         #to plot/visualize sales data and sales forecasting\n",
    "df = pd.read_csv('https://retoolapi.dev/x1GTna/data')\n",
    "df\n",
    "\n"
   ]
  },
  {
   "cell_type": "code",
   "execution_count": 2,
   "id": "900fa16a",
   "metadata": {},
   "outputs": [],
   "source": [
    "# # Selecting first two columns from uploaded dataset\n",
    "df = df.iloc[:,0:2]"
   ]
  },
  {
   "cell_type": "code",
   "execution_count": 43,
   "id": "9dae9a57",
   "metadata": {},
   "outputs": [],
   "source": [
    "# inferring datetime\n",
    "df.iloc[:,0] = pd.to_datetime(df.iloc[:,0], infer_datetime_format=True, errors='coerce')\n",
    "df.columns = ['datetime', 'sales']\n",
    "df['datetime'] = pd.to_datetime(df['datetime'], format='%d/%m/%y')"
   ]
  },
  {
   "cell_type": "code",
   "execution_count": 47,
   "id": "5cb913d6",
   "metadata": {},
   "outputs": [
    {
     "data": {
      "text/html": [
       "<div>\n",
       "<style scoped>\n",
       "    .dataframe tbody tr th:only-of-type {\n",
       "        vertical-align: middle;\n",
       "    }\n",
       "\n",
       "    .dataframe tbody tr th {\n",
       "        vertical-align: top;\n",
       "    }\n",
       "\n",
       "    .dataframe thead th {\n",
       "        text-align: right;\n",
       "    }\n",
       "</style>\n",
       "<table border=\"1\" class=\"dataframe\">\n",
       "  <thead>\n",
       "    <tr style=\"text-align: right;\">\n",
       "      <th></th>\n",
       "      <th>datetime</th>\n",
       "      <th>sales</th>\n",
       "    </tr>\n",
       "  </thead>\n",
       "  <tbody>\n",
       "    <tr>\n",
       "      <th>0</th>\n",
       "      <td>2019-01-31</td>\n",
       "      <td>1172570</td>\n",
       "    </tr>\n",
       "    <tr>\n",
       "      <th>1</th>\n",
       "      <td>2019-02-28</td>\n",
       "      <td>1257531</td>\n",
       "    </tr>\n",
       "    <tr>\n",
       "      <th>2</th>\n",
       "      <td>2019-03-31</td>\n",
       "      <td>1552036</td>\n",
       "    </tr>\n",
       "    <tr>\n",
       "      <th>3</th>\n",
       "      <td>2019-04-30</td>\n",
       "      <td>1355463</td>\n",
       "    </tr>\n",
       "    <tr>\n",
       "      <th>4</th>\n",
       "      <td>2019-05-31</td>\n",
       "      <td>1606175</td>\n",
       "    </tr>\n",
       "    <tr>\n",
       "      <th>5</th>\n",
       "      <td>2019-06-30</td>\n",
       "      <td>1462590</td>\n",
       "    </tr>\n",
       "    <tr>\n",
       "      <th>6</th>\n",
       "      <td>2019-07-31</td>\n",
       "      <td>1417362</td>\n",
       "    </tr>\n",
       "    <tr>\n",
       "      <th>7</th>\n",
       "      <td>2019-08-31</td>\n",
       "      <td>1628503</td>\n",
       "    </tr>\n",
       "    <tr>\n",
       "      <th>8</th>\n",
       "      <td>2019-09-30</td>\n",
       "      <td>1282712</td>\n",
       "    </tr>\n",
       "    <tr>\n",
       "      <th>9</th>\n",
       "      <td>2019-10-31</td>\n",
       "      <td>1384010</td>\n",
       "    </tr>\n",
       "    <tr>\n",
       "      <th>10</th>\n",
       "      <td>2019-11-30</td>\n",
       "      <td>1445173</td>\n",
       "    </tr>\n",
       "    <tr>\n",
       "      <th>11</th>\n",
       "      <td>2019-12-31</td>\n",
       "      <td>1459164</td>\n",
       "    </tr>\n",
       "    <tr>\n",
       "      <th>12</th>\n",
       "      <td>2020-01-31</td>\n",
       "      <td>1157415</td>\n",
       "    </tr>\n",
       "    <tr>\n",
       "      <th>13</th>\n",
       "      <td>2020-02-29</td>\n",
       "      <td>1434716</td>\n",
       "    </tr>\n",
       "    <tr>\n",
       "      <th>14</th>\n",
       "      <td>2020-03-31</td>\n",
       "      <td>912800</td>\n",
       "    </tr>\n",
       "    <tr>\n",
       "      <th>15</th>\n",
       "      <td>2020-04-30</td>\n",
       "      <td>563122</td>\n",
       "    </tr>\n",
       "    <tr>\n",
       "      <th>16</th>\n",
       "      <td>2020-05-31</td>\n",
       "      <td>1181756</td>\n",
       "    </tr>\n",
       "    <tr>\n",
       "      <th>17</th>\n",
       "      <td>2020-06-30</td>\n",
       "      <td>1214706</td>\n",
       "    </tr>\n",
       "    <tr>\n",
       "      <th>18</th>\n",
       "      <td>2020-07-31</td>\n",
       "      <td>1336267</td>\n",
       "    </tr>\n",
       "    <tr>\n",
       "      <th>19</th>\n",
       "      <td>2020-08-31</td>\n",
       "      <td>1298489</td>\n",
       "    </tr>\n",
       "    <tr>\n",
       "      <th>20</th>\n",
       "      <td>2020-09-30</td>\n",
       "      <td>1370243</td>\n",
       "    </tr>\n",
       "  </tbody>\n",
       "</table>\n",
       "</div>"
      ],
      "text/plain": [
       "     datetime    sales\n",
       "0  2019-01-31  1172570\n",
       "1  2019-02-28  1257531\n",
       "2  2019-03-31  1552036\n",
       "3  2019-04-30  1355463\n",
       "4  2019-05-31  1606175\n",
       "5  2019-06-30  1462590\n",
       "6  2019-07-31  1417362\n",
       "7  2019-08-31  1628503\n",
       "8  2019-09-30  1282712\n",
       "9  2019-10-31  1384010\n",
       "10 2019-11-30  1445173\n",
       "11 2019-12-31  1459164\n",
       "12 2020-01-31  1157415\n",
       "13 2020-02-29  1434716\n",
       "14 2020-03-31   912800\n",
       "15 2020-04-30   563122\n",
       "16 2020-05-31  1181756\n",
       "17 2020-06-30  1214706\n",
       "18 2020-07-31  1336267\n",
       "19 2020-08-31  1298489\n",
       "20 2020-09-30  1370243"
      ]
     },
     "execution_count": 47,
     "metadata": {},
     "output_type": "execute_result"
    }
   ],
   "source": [
    "df"
   ]
  },
  {
   "cell_type": "code",
   "execution_count": 46,
   "id": "894a56f0",
   "metadata": {},
   "outputs": [],
   "source": [
    "#indexing by month column\n",
    "indexedDataset = df.set_index(df['datetime'])"
   ]
  },
  {
   "cell_type": "code",
   "execution_count": 6,
   "id": "857c005e",
   "metadata": {},
   "outputs": [
    {
     "data": {
      "text/plain": [
       "datetime\n",
       "2019-01-31   2019-01-31\n",
       "2019-02-28   2019-02-28\n",
       "2019-03-31   2019-03-31\n",
       "2019-04-30   2019-04-30\n",
       "2019-05-31   2019-05-31\n",
       "2019-06-30   2019-06-30\n",
       "2019-07-31   2019-07-31\n",
       "2019-08-31   2019-08-31\n",
       "2019-09-30   2019-09-30\n",
       "2019-10-31   2019-10-31\n",
       "2019-11-30   2019-11-30\n",
       "2019-12-31   2019-12-31\n",
       "2020-01-31   2020-01-31\n",
       "2020-02-29   2020-02-29\n",
       "2020-03-31   2020-03-31\n",
       "2020-04-30   2020-04-30\n",
       "2020-05-31   2020-05-31\n",
       "2020-06-30   2020-06-30\n",
       "2020-07-31   2020-07-31\n",
       "2020-08-31   2020-08-31\n",
       "2020-09-30   2020-09-30\n",
       "Name: datetime, dtype: datetime64[ns]"
      ]
     },
     "execution_count": 6,
     "metadata": {},
     "output_type": "execute_result"
    }
   ],
   "source": [
    "indexedDataset['datetime']\n",
    "\n"
   ]
  },
  {
   "cell_type": "code",
   "execution_count": 7,
   "id": "dbc2c08a",
   "metadata": {},
   "outputs": [],
   "source": [
    "# rolling mean with window size 3(3months)\n",
    "rolmean = indexedDataset.rolling(window=3).mean()"
   ]
  },
  {
   "cell_type": "code",
   "execution_count": 8,
   "id": "752ac75e",
   "metadata": {},
   "outputs": [],
   "source": [
    "# rolling mean with window size 3(3months)\n",
    "rolstd = indexedDataset.rolling(window=3).std()"
   ]
  },
  {
   "cell_type": "code",
   "execution_count": 9,
   "id": "64e81c82",
   "metadata": {},
   "outputs": [
    {
     "data": {
      "text/plain": [
       "Test Statistic                 -2.826603\n",
       "p-value                         0.054573\n",
       "#Lags Used                      0.000000\n",
       "Number of Observations Used    20.000000\n",
       "Critical Value (1%)            -3.809209\n",
       "Critical Value (5%)            -3.021645\n",
       "Critical Value (10%)           -2.650713\n",
       "dtype: float64"
      ]
     },
     "execution_count": 9,
     "metadata": {},
     "output_type": "execute_result"
    }
   ],
   "source": [
    "# perform dickey-fuller test for indexedDataset\n",
    "from statsmodels.tsa.stattools import adfuller\n",
    "dftest = adfuller(indexedDataset['sales'], autolag='AIC')\n",
    "def test_stationarity(timeseries):\n",
    "    dftest = adfuller(timeseries, autolag='AIC')\n",
    "    dfoutput = pd.Series(dftest[0:4], index=['Test Statistic', 'p-value', '#Lags Used', 'Number of Observations Used'])\n",
    "    for key,value in dftest[4].items():\n",
    "        dfoutput['Critical Value (%s)'%key] =value\n",
    "    return dfoutput\n",
    "dfoutput = test_stationarity(indexedDataset['sales'])\n",
    "dfoutput"
   ]
  },
  {
   "cell_type": "code",
   "execution_count": 10,
   "id": "0f829eaf",
   "metadata": {},
   "outputs": [
    {
     "data": {
      "text/plain": [
       "True"
      ]
     },
     "execution_count": 10,
     "metadata": {},
     "output_type": "execute_result"
    }
   ],
   "source": [
    "dfoutput['Test Statistic'] < dfoutput['Critical Value (10%)'] and dfoutput['p-value']<=0.1\n",
    "\n",
    "#Critical Value > test -> 10% error accuracy is allowed(for only 10% we can reject null hypothesis and concluse that given series is stationery)\n",
    "# strationery series are requied for TSA"
   ]
  },
  {
   "cell_type": "code",
   "execution_count": 11,
   "id": "499c4773",
   "metadata": {},
   "outputs": [
    {
     "data": {
      "text/html": [
       "<div>\n",
       "<style scoped>\n",
       "    .dataframe tbody tr th:only-of-type {\n",
       "        vertical-align: middle;\n",
       "    }\n",
       "\n",
       "    .dataframe tbody tr th {\n",
       "        vertical-align: top;\n",
       "    }\n",
       "\n",
       "    .dataframe thead th {\n",
       "        text-align: right;\n",
       "    }\n",
       "</style>\n",
       "<table border=\"1\" class=\"dataframe\">\n",
       "  <thead>\n",
       "    <tr style=\"text-align: right;\">\n",
       "      <th></th>\n",
       "      <th>datetime</th>\n",
       "      <th>sales</th>\n",
       "    </tr>\n",
       "    <tr>\n",
       "      <th>datetime</th>\n",
       "      <th></th>\n",
       "      <th></th>\n",
       "    </tr>\n",
       "  </thead>\n",
       "  <tbody>\n",
       "    <tr>\n",
       "      <th>2019-01-31</th>\n",
       "      <td>2019-01-31</td>\n",
       "      <td>1172570</td>\n",
       "    </tr>\n",
       "    <tr>\n",
       "      <th>2019-02-28</th>\n",
       "      <td>2019-02-28</td>\n",
       "      <td>1257531</td>\n",
       "    </tr>\n",
       "    <tr>\n",
       "      <th>2019-03-31</th>\n",
       "      <td>2019-03-31</td>\n",
       "      <td>1552036</td>\n",
       "    </tr>\n",
       "    <tr>\n",
       "      <th>2019-04-30</th>\n",
       "      <td>2019-04-30</td>\n",
       "      <td>1355463</td>\n",
       "    </tr>\n",
       "    <tr>\n",
       "      <th>2019-05-31</th>\n",
       "      <td>2019-05-31</td>\n",
       "      <td>1606175</td>\n",
       "    </tr>\n",
       "    <tr>\n",
       "      <th>2019-06-30</th>\n",
       "      <td>2019-06-30</td>\n",
       "      <td>1462590</td>\n",
       "    </tr>\n",
       "    <tr>\n",
       "      <th>2019-07-31</th>\n",
       "      <td>2019-07-31</td>\n",
       "      <td>1417362</td>\n",
       "    </tr>\n",
       "    <tr>\n",
       "      <th>2019-08-31</th>\n",
       "      <td>2019-08-31</td>\n",
       "      <td>1628503</td>\n",
       "    </tr>\n",
       "    <tr>\n",
       "      <th>2019-09-30</th>\n",
       "      <td>2019-09-30</td>\n",
       "      <td>1282712</td>\n",
       "    </tr>\n",
       "    <tr>\n",
       "      <th>2019-10-31</th>\n",
       "      <td>2019-10-31</td>\n",
       "      <td>1384010</td>\n",
       "    </tr>\n",
       "    <tr>\n",
       "      <th>2019-11-30</th>\n",
       "      <td>2019-11-30</td>\n",
       "      <td>1445173</td>\n",
       "    </tr>\n",
       "    <tr>\n",
       "      <th>2019-12-31</th>\n",
       "      <td>2019-12-31</td>\n",
       "      <td>1459164</td>\n",
       "    </tr>\n",
       "    <tr>\n",
       "      <th>2020-01-31</th>\n",
       "      <td>2020-01-31</td>\n",
       "      <td>1157415</td>\n",
       "    </tr>\n",
       "    <tr>\n",
       "      <th>2020-02-29</th>\n",
       "      <td>2020-02-29</td>\n",
       "      <td>1434716</td>\n",
       "    </tr>\n",
       "    <tr>\n",
       "      <th>2020-03-31</th>\n",
       "      <td>2020-03-31</td>\n",
       "      <td>912800</td>\n",
       "    </tr>\n",
       "    <tr>\n",
       "      <th>2020-04-30</th>\n",
       "      <td>2020-04-30</td>\n",
       "      <td>563122</td>\n",
       "    </tr>\n",
       "    <tr>\n",
       "      <th>2020-05-31</th>\n",
       "      <td>2020-05-31</td>\n",
       "      <td>1181756</td>\n",
       "    </tr>\n",
       "    <tr>\n",
       "      <th>2020-06-30</th>\n",
       "      <td>2020-06-30</td>\n",
       "      <td>1214706</td>\n",
       "    </tr>\n",
       "    <tr>\n",
       "      <th>2020-07-31</th>\n",
       "      <td>2020-07-31</td>\n",
       "      <td>1336267</td>\n",
       "    </tr>\n",
       "    <tr>\n",
       "      <th>2020-08-31</th>\n",
       "      <td>2020-08-31</td>\n",
       "      <td>1298489</td>\n",
       "    </tr>\n",
       "    <tr>\n",
       "      <th>2020-09-30</th>\n",
       "      <td>2020-09-30</td>\n",
       "      <td>1370243</td>\n",
       "    </tr>\n",
       "  </tbody>\n",
       "</table>\n",
       "</div>"
      ],
      "text/plain": [
       "             datetime    sales\n",
       "datetime                      \n",
       "2019-01-31 2019-01-31  1172570\n",
       "2019-02-28 2019-02-28  1257531\n",
       "2019-03-31 2019-03-31  1552036\n",
       "2019-04-30 2019-04-30  1355463\n",
       "2019-05-31 2019-05-31  1606175\n",
       "2019-06-30 2019-06-30  1462590\n",
       "2019-07-31 2019-07-31  1417362\n",
       "2019-08-31 2019-08-31  1628503\n",
       "2019-09-30 2019-09-30  1282712\n",
       "2019-10-31 2019-10-31  1384010\n",
       "2019-11-30 2019-11-30  1445173\n",
       "2019-12-31 2019-12-31  1459164\n",
       "2020-01-31 2020-01-31  1157415\n",
       "2020-02-29 2020-02-29  1434716\n",
       "2020-03-31 2020-03-31   912800\n",
       "2020-04-30 2020-04-30   563122\n",
       "2020-05-31 2020-05-31  1181756\n",
       "2020-06-30 2020-06-30  1214706\n",
       "2020-07-31 2020-07-31  1336267\n",
       "2020-08-31 2020-08-31  1298489\n",
       "2020-09-30 2020-09-30  1370243"
      ]
     },
     "execution_count": 11,
     "metadata": {},
     "output_type": "execute_result"
    }
   ],
   "source": [
    "# strationery series are requied for TSA\n",
    "indexedDataset"
   ]
  },
  {
   "cell_type": "code",
   "execution_count": 12,
   "id": "a20823aa",
   "metadata": {},
   "outputs": [],
   "source": [
    "# indexedDataset_logScale = np.log(indexedDataset)\n",
    "temp = indexedDataset\n",
    "temp['sales'] = np.log(temp['sales'])\n",
    "indexedDataset_logScale = temp"
   ]
  },
  {
   "cell_type": "code",
   "execution_count": 13,
   "id": "d6a95b96",
   "metadata": {},
   "outputs": [
    {
     "name": "stdout",
     "output_type": "stream",
     "text": [
      "Test Statistic                 -2.841534\n",
      "p-value                         0.052582\n",
      "#Lags Used                      0.000000\n",
      "Number of Observations Used    20.000000\n",
      "Critical Value (1%)            -3.809209\n",
      "Critical Value (5%)            -3.021645\n",
      "Critical Value (10%)           -2.650713\n",
      "dtype: float64\n"
     ]
    }
   ],
   "source": [
    "from statsmodels.tsa.stattools import adfuller\n",
    "def test_stationarity(timeseries):\n",
    "    dftest = adfuller(timeseries, autolag='AIC')\n",
    "    dfoutput = pd.Series(dftest[0:4], index=['Test Statistic', 'p-value', '#Lags Used', 'Number of Observations Used'])\n",
    "    for key,value in dftest[4].items():\n",
    "        dfoutput['Critical Value (%s)'%key] =value\n",
    "    print(dfoutput)\n",
    "# perform df test for logScale indexeddataset\n",
    "test_stationarity(indexedDataset_logScale['sales'])"
   ]
  },
  {
   "cell_type": "code",
   "execution_count": 14,
   "id": "60116f4c",
   "metadata": {},
   "outputs": [],
   "source": [
    "\n",
    "#Critical Value > test -> 10% error accuracy is allowed(for only 10% we can reject null hypothesis and concluse that given series is stationery)\n",
    "# strationery series are requied for TSA"
   ]
  },
  {
   "cell_type": "code",
   "execution_count": 15,
   "id": "3c06b6de",
   "metadata": {},
   "outputs": [],
   "source": [
    "# moving std and average for log scale indexed dataset\n",
    "movingStd = indexedDataset_logScale.rolling(window=3).std()\n",
    "movingAverage = indexedDataset_logScale.rolling(window=3).mean()"
   ]
  },
  {
   "cell_type": "code",
   "execution_count": 16,
   "id": "52706804",
   "metadata": {},
   "outputs": [],
   "source": [
    "#dataset LogScale - moving averge\n",
    "dataSetLogScaleMinusMA = indexedDataset_logScale-movingAverage"
   ]
  },
  {
   "cell_type": "code",
   "execution_count": 17,
   "id": "3eeb8275",
   "metadata": {},
   "outputs": [],
   "source": [
    "dataSetLogScaleMinusMA.dropna(inplace=True)"
   ]
  },
  {
   "cell_type": "code",
   "execution_count": 18,
   "id": "9db9523e",
   "metadata": {},
   "outputs": [],
   "source": [
    "# perform df test for dataSetLogScaleMinusMA\n",
    "# test_stationarity(dataSetLogScaleMinusMA)"
   ]
  },
  {
   "cell_type": "code",
   "execution_count": 19,
   "id": "9bfa48f2",
   "metadata": {},
   "outputs": [],
   "source": [
    "# exponential weighted average\n",
    "exponentialDecayWeightedAverage = indexedDataset_logScale.ewm(halflife=3, min_periods=0, adjust=True).mean()"
   ]
  },
  {
   "cell_type": "code",
   "execution_count": 20,
   "id": "6bd92b20",
   "metadata": {},
   "outputs": [],
   "source": [
    "dataSetLogScaleMinusEDWA = indexedDataset_logScale - movingAverage\n",
    "dataSetLogScaleMinusEDWA.dropna(inplace=True)"
   ]
  },
  {
   "cell_type": "code",
   "execution_count": 21,
   "id": "4d391d9c",
   "metadata": {},
   "outputs": [],
   "source": [
    "# perform df test for logScaleDataset - exponentialDecayWeightedAverage\n",
    "# test_stationarity(dataSetLogScaleMinusEDWA)"
   ]
  },
  {
   "cell_type": "code",
   "execution_count": 22,
   "id": "f54dcc3b",
   "metadata": {},
   "outputs": [],
   "source": [
    "#shifting\n",
    "datasetLogDiffShifting = indexedDataset_logScale - indexedDataset_logScale.shift()\n",
    "datasetLogDiffShifting.dropna(inplace=True)"
   ]
  },
  {
   "cell_type": "code",
   "execution_count": 23,
   "id": "c7ce2e70",
   "metadata": {},
   "outputs": [],
   "source": [
    "# perform df test for datasetLog - shifteddataset\n",
    "# test_stationarity(dataSetLogScaleMinusEDWA)"
   ]
  },
  {
   "cell_type": "code",
   "execution_count": 24,
   "id": "e8c9c9e0",
   "metadata": {},
   "outputs": [],
   "source": [
    "# \n",
    "# from statsmodels.tsa.seasonal import seasonal_decompose\n",
    "# decomposition = seasonal_decompose(indexedDataset_logScale)\n",
    "# trend = decomposition.trend\n",
    "# seasonal = decomposition.seasonal\n",
    "# residual = decomposition.resid\n",
    "# pip install statsmodels --upgrade"
   ]
  },
  {
   "cell_type": "code",
   "execution_count": 25,
   "id": "c8296b79",
   "metadata": {},
   "outputs": [
    {
     "data": {
      "text/plain": [
       "array([ 1.        , -0.28846432, -0.19409247,  0.17408256, -0.1436884 ,\n",
       "       -0.04298298,  0.03626372,  0.10835975, -0.2189435 ,  0.18017821])"
      ]
     },
     "execution_count": 25,
     "metadata": {},
     "output_type": "execute_result"
    }
   ],
   "source": [
    "# ACF and PACF(may require ploting)\n",
    "# nlags depends on number of datapoints\n",
    "# Can only compute partial correlations for lags up to 50% of the sample size. The requested nlags 20 must be < 10.(in this case)\n",
    "from statsmodels.tsa.stattools import acf, pacf\n",
    "lag_acf = acf(datasetLogDiffShifting['sales'], nlags=9)\n",
    "lag_pacf = pacf(datasetLogDiffShifting['sales'], nlags=9, method='ols')\n",
    "# p value -> partial autocorrelation, d value -> autocorrlation\n",
    "lag_acf"
   ]
  },
  {
   "cell_type": "code",
   "execution_count": 26,
   "id": "585eddcb",
   "metadata": {},
   "outputs": [
    {
     "data": {
      "text/plain": [
       "Text(0.5, 1.0, 'Autocorrelation Function')"
      ]
     },
     "execution_count": 26,
     "metadata": {},
     "output_type": "execute_result"
    },
    {
     "data": {
      "image/png": "[encoded data removed]",
      "text/plain": [
       "<Figure size 432x288 with 1 Axes>"
      ]
     },
     "metadata": {
      "needs_background": "light"
     },
     "output_type": "display_data"
    }
   ],
   "source": [
    "# Plotting ACF - Q VALUE\n",
    "plt.subplot(121)\n",
    "plt.plot(lag_acf)\n",
    "plt.axhline(y=0, linestyle='--', color='gray')\n",
    "plt.axhline(y=-1.96/np.sqrt(len(datasetLogDiffShifting['sales'])),linestyle='--',color='gray')\n",
    "plt.axhline(y=1.96/np.sqrt(len(datasetLogDiffShifting['sales'])),linestyle='--',color='gray')\n",
    "plt.title('Autocorrelation Function')"
   ]
  },
  {
   "cell_type": "code",
   "execution_count": 27,
   "id": "f31db618",
   "metadata": {},
   "outputs": [
    {
     "data": {
      "text/plain": [
       "Text(0.5, 1.0, 'Autocorrelation Function')"
      ]
     },
     "execution_count": 27,
     "metadata": {},
     "output_type": "execute_result"
    },
    {
     "data": {
      "image/png": "[encoded data removed]",
      "text/plain": [
       "<Figure size 432x288 with 1 Axes>"
      ]
     },
     "metadata": {
      "needs_background": "light"
     },
     "output_type": "display_data"
    }
   ],
   "source": [
    "# Plotting PACF -  P VALUE\n",
    "plt.subplot(121)\n",
    "plt.plot(lag_pacf)\n",
    "plt.axhline(y=0, linestyle='--', color='gray')\n",
    "plt.axhline(y=-1.96/np.sqrt(len(datasetLogDiffShifting['sales'])),linestyle='--',color='gray')\n",
    "plt.axhline(y=1.96/np.sqrt(len(datasetLogDiffShifting['sales'])),linestyle='--',color='gray')\n",
    "plt.title('Autocorrelation Function')\n",
    "# D value = 1 difference"
   ]
  },
  {
   "cell_type": "code",
   "execution_count": 28,
   "id": "c43fcd73",
   "metadata": {},
   "outputs": [
    {
     "name": "stderr",
     "output_type": "stream",
     "text": [
      "/Users/ajaysharma/opt/anaconda3/lib/python3.9/site-packages/statsmodels/tsa/base/tsa_model.py:471: ValueWarning: No frequency information was provided, so inferred frequency M will be used.\n",
      "  self._init_dates(dates, freq)\n",
      "/Users/ajaysharma/opt/anaconda3/lib/python3.9/site-packages/statsmodels/tsa/base/tsa_model.py:471: ValueWarning: No frequency information was provided, so inferred frequency M will be used.\n",
      "  self._init_dates(dates, freq)\n",
      "/Users/ajaysharma/opt/anaconda3/lib/python3.9/site-packages/statsmodels/tsa/base/tsa_model.py:471: ValueWarning: No frequency information was provided, so inferred frequency M will be used.\n",
      "  self._init_dates(dates, freq)\n"
     ]
    }
   ],
   "source": [
    "# ARIMA Model\n",
    "from statsmodels.tsa.arima.model import ARIMA\n",
    "model = ARIMA(indexedDataset_logScale['sales'], order=(1,1,1))\n",
    "results_ARIMA = model.fit()"
   ]
  },
  {
   "cell_type": "code",
   "execution_count": 29,
   "id": "2c5327b9",
   "metadata": {},
   "outputs": [
    {
     "name": "stdout",
     "output_type": "stream",
     "text": [
      "79218.56342456327\n"
     ]
    }
   ],
   "source": [
    "# printing RSA Value\n",
    "results_ARIMA.fittedvalues\n",
    "\n",
    "print(sum(results_ARIMA.fittedvalues[1:]-datasetLogDiffShifting['sales'])**2)"
   ]
  },
  {
   "cell_type": "code",
   "execution_count": 30,
   "id": "06feffe5",
   "metadata": {},
   "outputs": [
    {
     "data": {
      "text/plain": [
       "datetime\n",
       "2019-01-31     0.000000\n",
       "2019-02-28    13.974708\n",
       "2019-03-31    14.024799\n",
       "2019-04-30    14.166652\n",
       "2019-05-31    14.099622\n",
       "2019-06-30    14.202055\n",
       "2019-07-31    14.160747\n",
       "2019-08-31    14.147592\n",
       "2019-09-30    14.223943\n",
       "2019-10-31    14.105643\n",
       "2019-11-30    14.141513\n",
       "2019-12-31    14.163574\n",
       "2020-01-31    14.169944\n",
       "2020-02-29    14.055479\n",
       "2020-03-31    14.156091\n",
       "2020-04-30    13.934515\n",
       "2020-05-31    13.686165\n",
       "2020-06-30    14.022498\n",
       "2020-07-31    14.033740\n",
       "2020-08-31    14.078453\n",
       "2020-09-30    14.065980\n",
       "dtype: float64"
      ]
     },
     "execution_count": 30,
     "metadata": {},
     "output_type": "execute_result"
    }
   ],
   "source": [
    "# predictions + data transformation\n",
    "predictions_ARIMA_diff = pd.Series(results_ARIMA.fittedvalues, copy=True)\n",
    "predictions_ARIMA_diff"
   ]
  },
  {
   "cell_type": "code",
   "execution_count": 31,
   "id": "1453c079",
   "metadata": {},
   "outputs": [
    {
     "data": {
      "text/plain": [
       "datetime\n",
       "2019-01-31      0.000000\n",
       "2019-02-28     13.974708\n",
       "2019-03-31     27.999507\n",
       "2019-04-30     42.166159\n",
       "2019-05-31     56.265781\n",
       "2019-06-30     70.467836\n",
       "2019-07-31     84.628584\n",
       "2019-08-31     98.776176\n",
       "2019-09-30    113.000119\n",
       "2019-10-31    127.105762\n",
       "2019-11-30    141.247275\n",
       "2019-12-31    155.410850\n",
       "2020-01-31    169.580793\n",
       "2020-02-29    183.636272\n",
       "2020-03-31    197.792364\n",
       "2020-04-30    211.726878\n",
       "2020-05-31    225.413043\n",
       "2020-06-30    239.435541\n",
       "2020-07-31    253.469281\n",
       "2020-08-31    267.547735\n",
       "2020-09-30    281.613715\n",
       "dtype: float64"
      ]
     },
     "execution_count": 31,
     "metadata": {},
     "output_type": "execute_result"
    }
   ],
   "source": [
    "# convert to culmulative sum\n",
    "predictions_ARIMA_diff_cumsum = predictions_ARIMA_diff.cumsum()\n",
    "predictions_ARIMA_diff_cumsum"
   ]
  },
  {
   "cell_type": "code",
   "execution_count": 32,
   "id": "5c957681",
   "metadata": {},
   "outputs": [],
   "source": [
    "# predictions in log scale\n",
    "predictions_ARIMA_log = pd.Series(indexedDataset_logScale['sales'], index=indexedDataset_logScale.index)\n",
    "predictions_ARIMA_log = predictions_ARIMA_log.add(predictions_ARIMA_diff_cumsum, fill_value=0)"
   ]
  },
  {
   "cell_type": "code",
   "execution_count": 33,
   "id": "38bd3679",
   "metadata": {},
   "outputs": [
    {
     "data": {
      "text/plain": [
       "datetime\n",
       "2019-01-31     13.974708\n",
       "2019-02-28     28.019369\n",
       "2019-03-31     42.254585\n",
       "2019-04-30     56.285813\n",
       "2019-05-31     70.555147\n",
       "2019-06-30     84.663555\n",
       "2019-07-31     98.792892\n",
       "2019-08-31    113.079348\n",
       "2019-09-30    127.064606\n",
       "2019-10-31    141.246257\n",
       "2019-11-30    155.431015\n",
       "2019-12-31    169.604224\n",
       "2020-01-31    183.542493\n",
       "2020-02-29    197.812750\n",
       "2020-03-31    211.516636\n",
       "2020-04-30    224.968130\n",
       "2020-05-31    239.395555\n",
       "2020-06-30    253.445554\n",
       "2020-07-31    267.574672\n",
       "2020-08-31    281.624447\n",
       "2020-09-30    295.744214\n",
       "dtype: float64"
      ]
     },
     "execution_count": 33,
     "metadata": {},
     "output_type": "execute_result"
    }
   ],
   "source": [
    "predictions_ARIMA_log"
   ]
  },
  {
   "cell_type": "code",
   "execution_count": 34,
   "id": "af6d54ec",
   "metadata": {},
   "outputs": [
    {
     "data": {
      "text/plain": [
       "datetime\n",
       "2019-01-31     1.172570e+06\n",
       "2019-02-28     1.474543e+12\n",
       "2019-03-31     2.243536e+18\n",
       "2019-04-30     2.783671e+24\n",
       "2019-05-31     4.382390e+30\n",
       "2019-06-30     5.873743e+36\n",
       "2019-07-31     8.039104e+42\n",
       "2019-08-31     1.287469e+49\n",
       "2019-09-30     1.525659e+55\n",
       "2019-10-31     2.200241e+61\n",
       "2019-11-30     3.182966e+67\n",
       "2019-12-31     4.551751e+73\n",
       "2020-01-31     5.146261e+79\n",
       "2020-02-29     8.109342e+85\n",
       "2020-03-31     7.252834e+91\n",
       "2020-04-30     5.039848e+97\n",
       "2020-05-31    9.293269e+103\n",
       "2020-06-30    1.174912e+110\n",
       "2020-07-31    1.607694e+116\n",
       "2020-08-31    2.032091e+122\n",
       "2020-09-30    2.754736e+128\n",
       "dtype: float64"
      ]
     },
     "execution_count": 34,
     "metadata": {},
     "output_type": "execute_result"
    }
   ],
   "source": [
    "# predictions in original scale\n",
    "predictions_ARIMA = np.exp(predictions_ARIMA_log)\n",
    "predictions_ARIMA"
   ]
  },
  {
   "cell_type": "code",
   "execution_count": 35,
   "id": "6b573637",
   "metadata": {},
   "outputs": [
    {
     "data": {
      "text/plain": [
       "[<matplotlib.lines.Line2D at 0x7fdeebda6430>]"
      ]
     },
     "execution_count": 35,
     "metadata": {},
     "output_type": "execute_result"
    },
    {
     "data": {
      "image/png": "[encoded data removed]",
      "text/plain": [
       "<Figure size 432x288 with 1 Axes>"
      ]
     },
     "metadata": {
      "needs_background": "light"
     },
     "output_type": "display_data"
    }
   ],
   "source": [
    "plt.plot(predictions_ARIMA)\n"
   ]
  },
  {
   "cell_type": "code",
   "execution_count": 36,
   "id": "ee91b282",
   "metadata": {},
   "outputs": [],
   "source": [
    "# predictions in array format\n",
    "predictions = np.exp(results_ARIMA.predict())[1:]\n",
    "# actual sales\n",
    "actual = np.exp(indexedDataset['sales'])[1:]\n",
    "\n",
    "from sklearn.metrics import mean_squared_error,mean_absolute_percentage_error\n",
    "# error calculation\n",
    "rmse = np.sqrt(mean_squared_error(actual,predictions))\n",
    "mape = mean_absolute_percentage_error(actual,predictions)\n"
   ]
  },
  {
   "cell_type": "code",
   "execution_count": 37,
   "id": "6f33a8ef",
   "metadata": {},
   "outputs": [],
   "source": [
    "forecast = np.exp(results_ARIMA.forecast(steps=5))"
   ]
  },
  {
   "cell_type": "code",
   "execution_count": null,
   "id": "28189860",
   "metadata": {
    "scrolled": true
   },
   "outputs": [],
   "source": []
  },
  {
   "cell_type": "code",
   "execution_count": 38,
   "id": "d502047b",
   "metadata": {},
   "outputs": [
    {
     "data": {
      "text/plain": [
       "pandas.core.series.Series"
      ]
     },
     "execution_count": 38,
     "metadata": {},
     "output_type": "execute_result"
    }
   ],
   "source": [
    "type(forecast)"
   ]
  },
  {
   "cell_type": "code",
   "execution_count": 39,
   "id": "afc3cd72",
   "metadata": {},
   "outputs": [
    {
     "data": {
      "text/plain": [
       "231214.0"
      ]
     },
     "execution_count": 39,
     "metadata": {},
     "output_type": "execute_result"
    }
   ],
   "source": [
    "rmse.round()"
   ]
  },
  {
   "cell_type": "code",
   "execution_count": 40,
   "id": "189f9e61",
   "metadata": {},
   "outputs": [
    {
     "data": {
      "text/plain": [
       "16.0"
      ]
     },
     "execution_count": 40,
     "metadata": {},
     "output_type": "execute_result"
    }
   ],
   "source": [
    "(mape*100).round()"
   ]
  },
  {
   "cell_type": "code",
   "execution_count": null,
   "id": "605af360",
   "metadata": {},
   "outputs": [],
   "source": []
  }
 ],
 "metadata": {
  "kernelspec": {
   "display_name": "Python 3 (ipykernel)",
   "language": "python",
   "name": "python3"
  },
  "language_info": {
   "codemirror_mode": {
    "name": "ipython",
    "version": 3
   },
   "file_extension": ".py",
   "mimetype": "text/x-python",
   "name": "python",
   "nbconvert_exporter": "python",
   "pygments_lexer": "ipython3",
   "version": "3.9.7"
  }
 },
 "nbformat": 4,
 "nbformat_minor": 5
}
