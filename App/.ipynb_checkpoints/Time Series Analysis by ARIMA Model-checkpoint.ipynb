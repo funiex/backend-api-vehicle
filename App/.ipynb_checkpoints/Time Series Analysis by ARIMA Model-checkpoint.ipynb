{
 "cells": [
  {
   "cell_type": "code",
   "execution_count": 1,
   "id": "eafa3a49",
   "metadata": {},
   "outputs": [
    {
     "data": {
      "text/html": [
       "<div>\n",
       "<style scoped>\n",
       "    .dataframe tbody tr th:only-of-type {\n",
       "        vertical-align: middle;\n",
       "    }\n",
       "\n",
       "    .dataframe tbody tr th {\n",
       "        vertical-align: top;\n",
       "    }\n",
       "\n",
       "    .dataframe thead th {\n",
       "        text-align: right;\n",
       "    }\n",
       "</style>\n",
       "<table border=\"1\" class=\"dataframe\">\n",
       "  <thead>\n",
       "    <tr style=\"text-align: right;\">\n",
       "      <th></th>\n",
       "      <th>Date</th>\n",
       "      <th>Total Sales</th>\n",
       "    </tr>\n",
       "  </thead>\n",
       "  <tbody>\n",
       "    <tr>\n",
       "      <th>0</th>\n",
       "      <td>1-01-18</td>\n",
       "      <td>266.0</td>\n",
       "    </tr>\n",
       "    <tr>\n",
       "      <th>1</th>\n",
       "      <td>1-02-18</td>\n",
       "      <td>145.9</td>\n",
       "    </tr>\n",
       "    <tr>\n",
       "      <th>2</th>\n",
       "      <td>1-03-18</td>\n",
       "      <td>183.1</td>\n",
       "    </tr>\n",
       "    <tr>\n",
       "      <th>3</th>\n",
       "      <td>1-04-18</td>\n",
       "      <td>119.3</td>\n",
       "    </tr>\n",
       "    <tr>\n",
       "      <th>4</th>\n",
       "      <td>1-05-18</td>\n",
       "      <td>180.3</td>\n",
       "    </tr>\n",
       "    <tr>\n",
       "      <th>5</th>\n",
       "      <td>1-06-18</td>\n",
       "      <td>168.5</td>\n",
       "    </tr>\n",
       "    <tr>\n",
       "      <th>6</th>\n",
       "      <td>1-07-18</td>\n",
       "      <td>231.8</td>\n",
       "    </tr>\n",
       "    <tr>\n",
       "      <th>7</th>\n",
       "      <td>1-08-18</td>\n",
       "      <td>224.5</td>\n",
       "    </tr>\n",
       "    <tr>\n",
       "      <th>8</th>\n",
       "      <td>1-09-18</td>\n",
       "      <td>192.8</td>\n",
       "    </tr>\n",
       "    <tr>\n",
       "      <th>9</th>\n",
       "      <td>1-10-18</td>\n",
       "      <td>122.9</td>\n",
       "    </tr>\n",
       "    <tr>\n",
       "      <th>10</th>\n",
       "      <td>1-11-18</td>\n",
       "      <td>336.5</td>\n",
       "    </tr>\n",
       "    <tr>\n",
       "      <th>11</th>\n",
       "      <td>1-12-18</td>\n",
       "      <td>185.9</td>\n",
       "    </tr>\n",
       "    <tr>\n",
       "      <th>12</th>\n",
       "      <td>2-01-19</td>\n",
       "      <td>194.3</td>\n",
       "    </tr>\n",
       "    <tr>\n",
       "      <th>13</th>\n",
       "      <td>2-02-19</td>\n",
       "      <td>149.5</td>\n",
       "    </tr>\n",
       "    <tr>\n",
       "      <th>14</th>\n",
       "      <td>2-03-19</td>\n",
       "      <td>210.1</td>\n",
       "    </tr>\n",
       "    <tr>\n",
       "      <th>15</th>\n",
       "      <td>2-04-19</td>\n",
       "      <td>273.3</td>\n",
       "    </tr>\n",
       "    <tr>\n",
       "      <th>16</th>\n",
       "      <td>2-05-19</td>\n",
       "      <td>191.4</td>\n",
       "    </tr>\n",
       "    <tr>\n",
       "      <th>17</th>\n",
       "      <td>2-06-19</td>\n",
       "      <td>287.0</td>\n",
       "    </tr>\n",
       "    <tr>\n",
       "      <th>18</th>\n",
       "      <td>2-07-19</td>\n",
       "      <td>226.0</td>\n",
       "    </tr>\n",
       "    <tr>\n",
       "      <th>19</th>\n",
       "      <td>2-08-19</td>\n",
       "      <td>303.6</td>\n",
       "    </tr>\n",
       "    <tr>\n",
       "      <th>20</th>\n",
       "      <td>2-09-19</td>\n",
       "      <td>289.9</td>\n",
       "    </tr>\n",
       "    <tr>\n",
       "      <th>21</th>\n",
       "      <td>2-10-19</td>\n",
       "      <td>421.6</td>\n",
       "    </tr>\n",
       "    <tr>\n",
       "      <th>22</th>\n",
       "      <td>2-11-19</td>\n",
       "      <td>264.5</td>\n",
       "    </tr>\n",
       "    <tr>\n",
       "      <th>23</th>\n",
       "      <td>2-12-19</td>\n",
       "      <td>342.3</td>\n",
       "    </tr>\n",
       "    <tr>\n",
       "      <th>24</th>\n",
       "      <td>3-01-20</td>\n",
       "      <td>339.7</td>\n",
       "    </tr>\n",
       "    <tr>\n",
       "      <th>25</th>\n",
       "      <td>3-02-20</td>\n",
       "      <td>440.4</td>\n",
       "    </tr>\n",
       "    <tr>\n",
       "      <th>26</th>\n",
       "      <td>3-03-20</td>\n",
       "      <td>315.9</td>\n",
       "    </tr>\n",
       "    <tr>\n",
       "      <th>27</th>\n",
       "      <td>3-04-20</td>\n",
       "      <td>439.3</td>\n",
       "    </tr>\n",
       "    <tr>\n",
       "      <th>28</th>\n",
       "      <td>3-05-20</td>\n",
       "      <td>401.3</td>\n",
       "    </tr>\n",
       "    <tr>\n",
       "      <th>29</th>\n",
       "      <td>3-06-20</td>\n",
       "      <td>437.4</td>\n",
       "    </tr>\n",
       "    <tr>\n",
       "      <th>30</th>\n",
       "      <td>3-07-20</td>\n",
       "      <td>575.5</td>\n",
       "    </tr>\n",
       "    <tr>\n",
       "      <th>31</th>\n",
       "      <td>3-08-20</td>\n",
       "      <td>407.6</td>\n",
       "    </tr>\n",
       "    <tr>\n",
       "      <th>32</th>\n",
       "      <td>3-09-20</td>\n",
       "      <td>682.0</td>\n",
       "    </tr>\n",
       "    <tr>\n",
       "      <th>33</th>\n",
       "      <td>3-10-20</td>\n",
       "      <td>475.3</td>\n",
       "    </tr>\n",
       "    <tr>\n",
       "      <th>34</th>\n",
       "      <td>3-11-20</td>\n",
       "      <td>581.3</td>\n",
       "    </tr>\n",
       "    <tr>\n",
       "      <th>35</th>\n",
       "      <td>3-12-20</td>\n",
       "      <td>646.9</td>\n",
       "    </tr>\n",
       "  </tbody>\n",
       "</table>\n",
       "</div>"
      ],
      "text/plain": [
       "       Date  Total Sales\n",
       "0   1-01-18        266.0\n",
       "1   1-02-18        145.9\n",
       "2   1-03-18        183.1\n",
       "3   1-04-18        119.3\n",
       "4   1-05-18        180.3\n",
       "5   1-06-18        168.5\n",
       "6   1-07-18        231.8\n",
       "7   1-08-18        224.5\n",
       "8   1-09-18        192.8\n",
       "9   1-10-18        122.9\n",
       "10  1-11-18        336.5\n",
       "11  1-12-18        185.9\n",
       "12  2-01-19        194.3\n",
       "13  2-02-19        149.5\n",
       "14  2-03-19        210.1\n",
       "15  2-04-19        273.3\n",
       "16  2-05-19        191.4\n",
       "17  2-06-19        287.0\n",
       "18  2-07-19        226.0\n",
       "19  2-08-19        303.6\n",
       "20  2-09-19        289.9\n",
       "21  2-10-19        421.6\n",
       "22  2-11-19        264.5\n",
       "23  2-12-19        342.3\n",
       "24  3-01-20        339.7\n",
       "25  3-02-20        440.4\n",
       "26  3-03-20        315.9\n",
       "27  3-04-20        439.3\n",
       "28  3-05-20        401.3\n",
       "29  3-06-20        437.4\n",
       "30  3-07-20        575.5\n",
       "31  3-08-20        407.6\n",
       "32  3-09-20        682.0\n",
       "33  3-10-20        475.3\n",
       "34  3-11-20        581.3\n",
       "35  3-12-20        646.9"
      ]
     },
     "execution_count": 1,
     "metadata": {},
     "output_type": "execute_result"
    }
   ],
   "source": [
    "import pandas as pd                     # to extract data from dataset(.csv file)                           #used to read and write to csv files\n",
    "import numpy as np                      #used to convert input into numpy arrays to be fed to the model\n",
    "import matplotlib.pyplot as plt         #to plot/visualize sales data and sales forecasting\n",
    "df = pd.read_csv('shampoo_sales.csv')\n",
    "df"
   ]
  },
  {
   "cell_type": "code",
   "execution_count": 2,
   "id": "900fa16a",
   "metadata": {},
   "outputs": [],
   "source": [
    "# # Selecting first two columns from uploaded dataset\n",
    "# df = df.iloc[:,0:2]"
   ]
  },
  {
   "cell_type": "code",
   "execution_count": 3,
   "id": "9dae9a57",
   "metadata": {},
   "outputs": [],
   "source": [
    "# inferring datetime\n",
    "df['Date'] = pd.to_datetime(df['Date'], infer_datetime_format=True, errors='coerce')"
   ]
  },
  {
   "cell_type": "code",
   "execution_count": null,
   "id": "3441fc8e",
   "metadata": {},
   "outputs": [],
   "source": []
  },
  {
   "cell_type": "code",
   "execution_count": 4,
   "id": "894a56f0",
   "metadata": {},
   "outputs": [],
   "source": [
    "#indexing by month column\n",
    "indexedDataset = df.set_index(['Date'])"
   ]
  },
  {
   "cell_type": "code",
   "execution_count": 5,
   "id": "857c005e",
   "metadata": {},
   "outputs": [
    {
     "data": {
      "text/html": [
       "<div>\n",
       "<style scoped>\n",
       "    .dataframe tbody tr th:only-of-type {\n",
       "        vertical-align: middle;\n",
       "    }\n",
       "\n",
       "    .dataframe tbody tr th {\n",
       "        vertical-align: top;\n",
       "    }\n",
       "\n",
       "    .dataframe thead th {\n",
       "        text-align: right;\n",
       "    }\n",
       "</style>\n",
       "<table border=\"1\" class=\"dataframe\">\n",
       "  <thead>\n",
       "    <tr style=\"text-align: right;\">\n",
       "      <th></th>\n",
       "      <th>Total Sales</th>\n",
       "    </tr>\n",
       "    <tr>\n",
       "      <th>Date</th>\n",
       "      <th></th>\n",
       "    </tr>\n",
       "  </thead>\n",
       "  <tbody>\n",
       "    <tr>\n",
       "      <th>2018-01-01</th>\n",
       "      <td>266.0</td>\n",
       "    </tr>\n",
       "    <tr>\n",
       "      <th>2018-01-02</th>\n",
       "      <td>145.9</td>\n",
       "    </tr>\n",
       "    <tr>\n",
       "      <th>2018-01-03</th>\n",
       "      <td>183.1</td>\n",
       "    </tr>\n",
       "    <tr>\n",
       "      <th>2018-01-04</th>\n",
       "      <td>119.3</td>\n",
       "    </tr>\n",
       "    <tr>\n",
       "      <th>2018-01-05</th>\n",
       "      <td>180.3</td>\n",
       "    </tr>\n",
       "  </tbody>\n",
       "</table>\n",
       "</div>"
      ],
      "text/plain": [
       "            Total Sales\n",
       "Date                   \n",
       "2018-01-01        266.0\n",
       "2018-01-02        145.9\n",
       "2018-01-03        183.1\n",
       "2018-01-04        119.3\n",
       "2018-01-05        180.3"
      ]
     },
     "execution_count": 5,
     "metadata": {},
     "output_type": "execute_result"
    }
   ],
   "source": [
    "indexedDataset.head(5)"
   ]
  },
  {
   "cell_type": "code",
   "execution_count": 6,
   "id": "dbc2c08a",
   "metadata": {},
   "outputs": [],
   "source": [
    "# rolling mean with window size 3(3months)\n",
    "rolmean = indexedDataset.rolling(window=6).mean()"
   ]
  },
  {
   "cell_type": "code",
   "execution_count": 7,
   "id": "752ac75e",
   "metadata": {},
   "outputs": [],
   "source": [
    "# rolling mean with window size 3(3months)\n",
    "rolstd = indexedDataset.rolling(window=6).std()"
   ]
  },
  {
   "cell_type": "code",
   "execution_count": 8,
   "id": "64e81c82",
   "metadata": {},
   "outputs": [],
   "source": [
    "# perform dickey-fuller test for indexedDataset\n",
    "from statsmodels.tsa.stattools import adfuller\n",
    "dftest = adfuller(indexedDataset['Total Sales'], autolag='AIC')\n",
    "dfoutput = pd.Series(dftest[0:4], index=['Test Statistic', 'p-value', '#Lags Used', 'Number of Observations Used'])\n",
    "for key,value in dftest[4].items():\n",
    "    dfoutput['Critical Value (%s)'%key] =value"
   ]
  },
  {
   "cell_type": "code",
   "execution_count": 9,
   "id": "0f829eaf",
   "metadata": {},
   "outputs": [
    {
     "data": {
      "text/plain": [
       "Test Statistic                  3.060142\n",
       "p-value                         1.000000\n",
       "#Lags Used                     10.000000\n",
       "Number of Observations Used    25.000000\n",
       "Critical Value (1%)            -3.723863\n",
       "Critical Value (5%)            -2.986489\n",
       "Critical Value (10%)           -2.632800\n",
       "dtype: float64"
      ]
     },
     "execution_count": 9,
     "metadata": {},
     "output_type": "execute_result"
    }
   ],
   "source": [
    "dfoutput\n",
    "#Critical Value > test -> 10% error accuracy is allowed(for only 10% we can reject null hypothesis and concluse that given series is stationery)\n",
    "# strationery series are requied for TSA"
   ]
  },
  {
   "cell_type": "code",
   "execution_count": 10,
   "id": "499c4773",
   "metadata": {},
   "outputs": [],
   "source": [
    "# strationery series are requied for TSA"
   ]
  },
  {
   "cell_type": "code",
   "execution_count": 11,
   "id": "a20823aa",
   "metadata": {},
   "outputs": [],
   "source": [
    "indexedDataset_logScale = np.log(indexedDataset)"
   ]
  },
  {
   "cell_type": "code",
   "execution_count": 12,
   "id": "d6a95b96",
   "metadata": {},
   "outputs": [
    {
     "name": "stdout",
     "output_type": "stream",
     "text": [
      "Test Statistic                  1.798463\n",
      "p-value                         0.998346\n",
      "#Lags Used                     10.000000\n",
      "Number of Observations Used    25.000000\n",
      "Critical Value (1%)            -3.723863\n",
      "Critical Value (5%)            -2.986489\n",
      "Critical Value (10%)           -2.632800\n",
      "dtype: float64\n"
     ]
    }
   ],
   "source": [
    "from statsmodels.tsa.stattools import adfuller\n",
    "def test_stationarity(timeseries):\n",
    "    dftest = adfuller(timeseries, autolag='AIC')\n",
    "    dfoutput = pd.Series(dftest[0:4], index=['Test Statistic', 'p-value', '#Lags Used', 'Number of Observations Used'])\n",
    "    for key,value in dftest[4].items():\n",
    "        dfoutput['Critical Value (%s)'%key] =value\n",
    "    print(dfoutput)\n",
    "# perform df test for logScale indexeddataset\n",
    "test_stationarity(indexedDataset_logScale['Total Sales'])"
   ]
  },
  {
   "cell_type": "code",
   "execution_count": 13,
   "id": "60116f4c",
   "metadata": {},
   "outputs": [],
   "source": [
    "\n",
    "#Critical Value > test -> 10% error accuracy is allowed(for only 10% we can reject null hypothesis and concluse that given series is stationery)\n",
    "# strationery series are requied for TSA"
   ]
  },
  {
   "cell_type": "code",
   "execution_count": 14,
   "id": "3c06b6de",
   "metadata": {},
   "outputs": [],
   "source": [
    "# moving std and average for log scale indexed dataset\n",
    "movingStd = rolstd = indexedDataset_logScale.rolling(window=3).std()\n",
    "movingAverage = rolstd = indexedDataset_logScale.rolling(window=3).mean()"
   ]
  },
  {
   "cell_type": "code",
   "execution_count": 15,
   "id": "52706804",
   "metadata": {},
   "outputs": [],
   "source": [
    "#dataset LogScale - moving averge\n",
    "dataSetLogScaleMinusMA = indexedDataset_logScale-movingAverage"
   ]
  },
  {
   "cell_type": "code",
   "execution_count": 16,
   "id": "3eeb8275",
   "metadata": {},
   "outputs": [],
   "source": [
    "dataSetLogScaleMinusMA.dropna(inplace=True)"
   ]
  },
  {
   "cell_type": "code",
   "execution_count": 17,
   "id": "9db9523e",
   "metadata": {},
   "outputs": [
    {
     "name": "stdout",
     "output_type": "stream",
     "text": [
      "Test Statistic                 -1.679557\n",
      "p-value                         0.441675\n",
      "#Lags Used                     10.000000\n",
      "Number of Observations Used    23.000000\n",
      "Critical Value (1%)            -3.752928\n",
      "Critical Value (5%)            -2.998500\n",
      "Critical Value (10%)           -2.638967\n",
      "dtype: float64\n"
     ]
    }
   ],
   "source": [
    "# perform df test for dataSetLogScaleMinusMA\n",
    "test_stationarity(dataSetLogScaleMinusMA)"
   ]
  },
  {
   "cell_type": "code",
   "execution_count": 18,
   "id": "9bfa48f2",
   "metadata": {},
   "outputs": [],
   "source": [
    "# exponential weighted average\n",
    "exponentialDecayWeightedAverage = indexedDataset_logScale.ewm(halflife=3, min_periods=0, adjust=True).mean()"
   ]
  },
  {
   "cell_type": "code",
   "execution_count": 19,
   "id": "6bd92b20",
   "metadata": {},
   "outputs": [],
   "source": [
    "dataSetLogScaleMinusEDWA = indexedDataset_logScale - movingAverage\n",
    "dataSetLogScaleMinusEDWA.dropna(inplace=True)"
   ]
  },
  {
   "cell_type": "code",
   "execution_count": 20,
   "id": "4d391d9c",
   "metadata": {},
   "outputs": [
    {
     "name": "stdout",
     "output_type": "stream",
     "text": [
      "Test Statistic                 -1.679557\n",
      "p-value                         0.441675\n",
      "#Lags Used                     10.000000\n",
      "Number of Observations Used    23.000000\n",
      "Critical Value (1%)            -3.752928\n",
      "Critical Value (5%)            -2.998500\n",
      "Critical Value (10%)           -2.638967\n",
      "dtype: float64\n"
     ]
    }
   ],
   "source": [
    "# perform df test for logScaleDataset - exponentialDecayWeightedAverage\n",
    "test_stationarity(dataSetLogScaleMinusEDWA)"
   ]
  },
  {
   "cell_type": "code",
   "execution_count": 21,
   "id": "f54dcc3b",
   "metadata": {},
   "outputs": [],
   "source": [
    "#shifting\n",
    "datasetLogDiffShifting = indexedDataset_logScale - indexedDataset_logScale.shift()\n",
    "datasetLogDiffShifting.dropna(inplace=True)"
   ]
  },
  {
   "cell_type": "code",
   "execution_count": 22,
   "id": "c7ce2e70",
   "metadata": {},
   "outputs": [
    {
     "name": "stdout",
     "output_type": "stream",
     "text": [
      "Test Statistic                 -1.679557\n",
      "p-value                         0.441675\n",
      "#Lags Used                     10.000000\n",
      "Number of Observations Used    23.000000\n",
      "Critical Value (1%)            -3.752928\n",
      "Critical Value (5%)            -2.998500\n",
      "Critical Value (10%)           -2.638967\n",
      "dtype: float64\n"
     ]
    }
   ],
   "source": [
    "# perform df test for datasetLog - shifteddataset\n",
    "test_stationarity(dataSetLogScaleMinusEDWA)"
   ]
  },
  {
   "cell_type": "code",
   "execution_count": 23,
   "id": "e8c9c9e0",
   "metadata": {},
   "outputs": [],
   "source": [
    "# \n",
    "# from statsmodels.tsa.seasonal import seasonal_decompose\n",
    "# decomposition = seasonal_decompose(indexedDataset_logScale)\n",
    "# trend = decomposition.trend\n",
    "# seasonal = decomposition.seasonal\n",
    "# residual = decomposition.resid\n",
    "# pip install statsmodels --upgrade"
   ]
  },
  {
   "cell_type": "code",
   "execution_count": 24,
   "id": "c8296b79",
   "metadata": {},
   "outputs": [],
   "source": [
    "# ACF and PACF(may require ploting)\n",
    "# nlags depends on number of datapoints\n",
    "# Can only compute partial correlations for lags up to 50% of the sample size. The requested nlags 20 must be < 10.(in this case)\n",
    "from statsmodels.tsa.stattools import acf, pacf\n",
    "lag_acf = acf(datasetLogDiffShifting, nlags=14)\n",
    "lag_pacf = pacf(datasetLogDiffShifting, nlags=14, method='ols')\n",
    "# p value -> partial autocorrelation, d value -> autocorrlation"
   ]
  },
  {
   "cell_type": "code",
   "execution_count": 25,
   "id": "585eddcb",
   "metadata": {},
   "outputs": [
    {
     "data": {
      "text/plain": [
       "Text(0.5, 1.0, 'Autocorrelation Function')"
      ]
     },
     "execution_count": 25,
     "metadata": {},
     "output_type": "execute_result"
    },
    {
     "data": {
      "image/png": "[encoded data removed]",
      "text/plain": [
       "<Figure size 432x288 with 1 Axes>"
      ]
     },
     "metadata": {
      "needs_background": "light"
     },
     "output_type": "display_data"
    }
   ],
   "source": [
    "# Plotting ACF - Q VALUE\n",
    "plt.subplot(121)\n",
    "plt.plot(lag_acf)\n",
    "plt.axhline(y=0, linestyle='--', color='gray')\n",
    "plt.axhline(y=-1.96/np.sqrt(len(datasetLogDiffShifting)),linestyle='--',color='gray')\n",
    "plt.axhline(y=1.96/np.sqrt(len(datasetLogDiffShifting)),linestyle='--',color='gray')\n",
    "plt.title('Autocorrelation Function')"
   ]
  },
  {
   "cell_type": "code",
   "execution_count": 26,
   "id": "f31db618",
   "metadata": {},
   "outputs": [
    {
     "data": {
      "text/plain": [
       "Text(0.5, 1.0, 'Autocorrelation Function')"
      ]
     },
     "execution_count": 26,
     "metadata": {},
     "output_type": "execute_result"
    },
    {
     "data": {
      "image/png": "[encoded data removed]",
      "text/plain": [
       "<Figure size 432x288 with 1 Axes>"
      ]
     },
     "metadata": {
      "needs_background": "light"
     },
     "output_type": "display_data"
    }
   ],
   "source": [
    "# Plotting PACF -  P VALUE\n",
    "plt.subplot(121)\n",
    "plt.plot(lag_pacf)\n",
    "plt.axhline(y=0, linestyle='--', color='gray')\n",
    "plt.axhline(y=-1.96/np.sqrt(len(datasetLogDiffShifting)),linestyle='--',color='gray')\n",
    "plt.axhline(y=1.96/np.sqrt(len(datasetLogDiffShifting)),linestyle='--',color='gray')\n",
    "plt.title('Autocorrelation Function')\n",
    "# D value = 1 difference"
   ]
  },
  {
   "cell_type": "code",
   "execution_count": 27,
   "id": "c43fcd73",
   "metadata": {},
   "outputs": [
    {
     "name": "stderr",
     "output_type": "stream",
     "text": [
      "/Users/ajaysharma/opt/anaconda3/lib/python3.9/site-packages/statsmodels/tsa/base/tsa_model.py:471: ValueWarning: A date index has been provided, but it has no associated frequency information and so will be ignored when e.g. forecasting.\n",
      "  self._init_dates(dates, freq)\n",
      "/Users/ajaysharma/opt/anaconda3/lib/python3.9/site-packages/statsmodels/tsa/base/tsa_model.py:471: ValueWarning: A date index has been provided, but it has no associated frequency information and so will be ignored when e.g. forecasting.\n",
      "  self._init_dates(dates, freq)\n",
      "/Users/ajaysharma/opt/anaconda3/lib/python3.9/site-packages/statsmodels/tsa/base/tsa_model.py:471: ValueWarning: A date index has been provided, but it has no associated frequency information and so will be ignored when e.g. forecasting.\n",
      "  self._init_dates(dates, freq)\n"
     ]
    }
   ],
   "source": [
    "# ARIMA Model\n",
    "from statsmodels.tsa.arima.model import ARIMA\n",
    "model = ARIMA(indexedDataset_logScale, order=(1,1,1))\n",
    "results_ARIMA = model.fit()"
   ]
  },
  {
   "cell_type": "code",
   "execution_count": 28,
   "id": "2c5327b9",
   "metadata": {},
   "outputs": [
    {
     "name": "stdout",
     "output_type": "stream",
     "text": [
      "37783.76311055104\n"
     ]
    }
   ],
   "source": [
    "# printing RSA Value\n",
    "results_ARIMA.fittedvalues\n",
    "\n",
    "print(sum(results_ARIMA.fittedvalues[1:]-datasetLogDiffShifting['Total Sales'])**2)"
   ]
  },
  {
   "cell_type": "code",
   "execution_count": 29,
   "id": "06feffe5",
   "metadata": {},
   "outputs": [
    {
     "data": {
      "text/plain": [
       "Date\n",
       "2018-01-01    0.000000\n",
       "2018-01-02    5.583496\n",
       "2018-01-03    5.393449\n",
       "2018-01-04    5.164149\n",
       "2018-01-05    5.138717\n",
       "2018-01-06    4.969804\n",
       "2018-01-07    5.099562\n",
       "2018-01-08    5.155126\n",
       "2018-01-09    5.329669\n",
       "2018-01-10    5.362847\n",
       "2018-01-11    5.246022\n",
       "2018-01-12    5.101686\n",
       "2019-02-01    5.469538\n",
       "2019-02-02    5.324965\n",
       "2019-02-03    5.259013\n",
       "2019-02-04    5.145891\n",
       "2019-02-05    5.301630\n",
       "2019-02-06    5.447936\n",
       "2019-02-07    5.378376\n",
       "2019-02-08    5.521851\n",
       "2019-02-09    5.495546\n",
       "2019-02-10    5.625049\n",
       "2019-02-11    5.697866\n",
       "2019-02-12    5.853663\n",
       "2020-03-01    5.715728\n",
       "2020-03-02    5.788420\n",
       "2020-03-03    5.844300\n",
       "2020-03-04    5.953284\n",
       "2020-03-05    5.871935\n",
       "2020-03-06    5.991809\n",
       "2020-03-07    6.004057\n",
       "2020-03-08    6.084530\n",
       "2020-03-09    6.208741\n",
       "2020-03-10    6.149507\n",
       "2020-03-11    6.336081\n",
       "2020-03-12    6.254909\n",
       "dtype: float64"
      ]
     },
     "execution_count": 29,
     "metadata": {},
     "output_type": "execute_result"
    }
   ],
   "source": [
    "# predictions + data transformation\n",
    "predictions_ARIMA_diff = pd.Series(results_ARIMA.fittedvalues, copy=True)\n",
    "predictions_ARIMA_diff"
   ]
  },
  {
   "cell_type": "code",
   "execution_count": 30,
   "id": "1453c079",
   "metadata": {},
   "outputs": [
    {
     "data": {
      "text/plain": [
       "Date\n",
       "2018-01-01      0.000000\n",
       "2018-01-02      5.583496\n",
       "2018-01-03     10.976945\n",
       "2018-01-04     16.141094\n",
       "2018-01-05     21.279811\n",
       "2018-01-06     26.249615\n",
       "2018-01-07     31.349177\n",
       "2018-01-08     36.504304\n",
       "2018-01-09     41.833973\n",
       "2018-01-10     47.196820\n",
       "2018-01-11     52.442842\n",
       "2018-01-12     57.544528\n",
       "2019-02-01     63.014066\n",
       "2019-02-02     68.339032\n",
       "2019-02-03     73.598045\n",
       "2019-02-04     78.743935\n",
       "2019-02-05     84.045565\n",
       "2019-02-06     89.493501\n",
       "2019-02-07     94.871877\n",
       "2019-02-08    100.393728\n",
       "2019-02-09    105.889274\n",
       "2019-02-10    111.514323\n",
       "2019-02-11    117.212189\n",
       "2019-02-12    123.065852\n",
       "2020-03-01    128.781580\n",
       "2020-03-02    134.570000\n",
       "2020-03-03    140.414301\n",
       "2020-03-04    146.367585\n",
       "2020-03-05    152.239520\n",
       "2020-03-06    158.231329\n",
       "2020-03-07    164.235386\n",
       "2020-03-08    170.319916\n",
       "2020-03-09    176.528658\n",
       "2020-03-10    182.678165\n",
       "2020-03-11    189.014246\n",
       "2020-03-12    195.269155\n",
       "dtype: float64"
      ]
     },
     "execution_count": 30,
     "metadata": {},
     "output_type": "execute_result"
    }
   ],
   "source": [
    "# convert to culmulative sum\n",
    "predictions_ARIMA_diff_cumsum = predictions_ARIMA_diff.cumsum()\n",
    "predictions_ARIMA_diff_cumsum"
   ]
  },
  {
   "cell_type": "code",
   "execution_count": 31,
   "id": "5c957681",
   "metadata": {},
   "outputs": [],
   "source": [
    "# predictions in log scale\n",
    "predictions_ARIMA_log = pd.Series(indexedDataset_logScale['Total Sales'], index=indexedDataset_logScale.index)\n",
    "predictions_ARIMA_log = predictions_ARIMA_log.add(predictions_ARIMA_diff_cumsum, fill_value=0)"
   ]
  },
  {
   "cell_type": "code",
   "execution_count": 32,
   "id": "38bd3679",
   "metadata": {},
   "outputs": [
    {
     "data": {
      "text/plain": [
       "Date\n",
       "2018-01-01      5.583496\n",
       "2018-01-02     10.566417\n",
       "2018-01-03     16.186978\n",
       "2018-01-04     20.922736\n",
       "2018-01-05     26.474433\n",
       "2018-01-06     31.376551\n",
       "2018-01-07     36.795052\n",
       "2018-01-08     41.918179\n",
       "2018-01-09     47.095626\n",
       "2018-01-10     52.008191\n",
       "2018-01-11     58.261440\n",
       "2018-01-12     62.769737\n",
       "2019-02-01     68.283470\n",
       "2019-02-02     73.346328\n",
       "2019-02-03     78.945628\n",
       "2019-02-04     84.354505\n",
       "2019-02-05     89.299930\n",
       "2019-02-06     95.152983\n",
       "2019-02-07    100.292412\n",
       "2019-02-08    106.109439\n",
       "2019-02-09    111.558810\n",
       "2019-02-10    117.558380\n",
       "2019-02-11    122.790030\n",
       "2019-02-12    128.901540\n",
       "2020-03-01    134.609643\n",
       "2020-03-02    140.657684\n",
       "2020-03-03    146.169727\n",
       "2020-03-04    152.452768\n",
       "2020-03-05    158.234229\n",
       "2020-03-06    164.312177\n",
       "2020-03-07    170.590625\n",
       "2020-03-08    176.330203\n",
       "2020-03-09    183.053687\n",
       "2020-03-10    188.842111\n",
       "2020-03-11    195.379513\n",
       "2020-03-12    201.741347\n",
       "dtype: float64"
      ]
     },
     "execution_count": 32,
     "metadata": {},
     "output_type": "execute_result"
    }
   ],
   "source": [
    "predictions_ARIMA_log"
   ]
  },
  {
   "cell_type": "code",
   "execution_count": 33,
   "id": "af6d54ec",
   "metadata": {},
   "outputs": [],
   "source": [
    "# predictions in original scale\n",
    "predictions_ARIMA = np.exp(predictions_ARIMA_log)"
   ]
  },
  {
   "cell_type": "code",
   "execution_count": 34,
   "id": "6b573637",
   "metadata": {},
   "outputs": [
    {
     "data": {
      "text/plain": [
       "[<matplotlib.lines.Line2D at 0x7fe650d24f70>]"
      ]
     },
     "execution_count": 34,
     "metadata": {},
     "output_type": "execute_result"
    },
    {
     "data": {
      "image/png": "[encoded data removed]",
      "text/plain": [
       "<Figure size 432x288 with 1 Axes>"
      ]
     },
     "metadata": {
      "needs_background": "light"
     },
     "output_type": "display_data"
    }
   ],
   "source": [
    "plt.plot(predictions_ARIMA)\n"
   ]
  },
  {
   "cell_type": "code",
   "execution_count": 38,
   "id": "ee91b282",
   "metadata": {},
   "outputs": [
    {
     "data": {
      "text/plain": [
       "Date\n",
       "2018-01-01      1.000000\n",
       "2018-01-02    265.999864\n",
       "2018-01-03    219.960783\n",
       "2018-01-04    174.888584\n",
       "2018-01-05    170.496906\n",
       "2018-01-06    143.998622\n",
       "2018-01-07    163.950088\n",
       "2018-01-08    173.317715\n",
       "2018-01-09    206.369741\n",
       "2018-01-10    213.331427\n",
       "2018-01-11    189.809708\n",
       "2018-01-12    164.298744\n",
       "2019-02-01    237.350545\n",
       "2019-02-02    205.401187\n",
       "2019-02-03    192.291648\n",
       "2019-02-04    171.724342\n",
       "2019-02-05    200.663541\n",
       "2019-02-06    232.278204\n",
       "2019-02-07    216.670149\n",
       "2019-02-08    250.097476\n",
       "2019-02-09    243.604577\n",
       "2019-02-10    277.285874\n",
       "2019-02-11    298.230304\n",
       "2019-02-12    348.508665\n",
       "2020-03-01    303.605210\n",
       "2020-03-02    326.496821\n",
       "2020-03-03    345.260920\n",
       "2020-03-04    385.015844\n",
       "2020-03-05    354.934952\n",
       "2020-03-06    400.137766\n",
       "2020-03-07    405.068947\n",
       "2020-03-08    439.013543\n",
       "2020-03-09    497.075208\n",
       "2020-03-10    468.486297\n",
       "2020-03-11    564.579652\n",
       "2020-03-12    520.562069\n",
       "Name: predicted_mean, dtype: float64"
      ]
     },
     "execution_count": 38,
     "metadata": {},
     "output_type": "execute_result"
    }
   ],
   "source": [
    "# predictions in array format\n",
    "np.exp(results_ARIMA.predict(steps=35))"
   ]
  },
  {
   "cell_type": "code",
   "execution_count": 43,
   "id": "6f33a8ef",
   "metadata": {},
   "outputs": [],
   "source": [
    "shampoo_base = np.exp(results_ARIMA.predict(steps=35))"
   ]
  },
  {
   "cell_type": "code",
   "execution_count": 60,
   "id": "741087cb",
   "metadata": {},
   "outputs": [],
   "source": [
    "seriesOne = df.iloc[:,1]"
   ]
  },
  {
   "cell_type": "code",
   "execution_count": 70,
   "id": "79494bdb",
   "metadata": {},
   "outputs": [
    {
     "data": {
      "text/plain": [
       "0     266.0\n",
       "1     145.9\n",
       "2     183.1\n",
       "3     119.3\n",
       "4     180.3\n",
       "5     168.5\n",
       "6     231.8\n",
       "7     224.5\n",
       "8     192.8\n",
       "9     122.9\n",
       "10    336.5\n",
       "11    185.9\n",
       "12    194.3\n",
       "13    149.5\n",
       "14    210.1\n",
       "15    273.3\n",
       "16    191.4\n",
       "17    287.0\n",
       "18    226.0\n",
       "19    303.6\n",
       "20    289.9\n",
       "21    421.6\n",
       "22    264.5\n",
       "23    342.3\n",
       "24    339.7\n",
       "25    440.4\n",
       "26    315.9\n",
       "27    439.3\n",
       "28    401.3\n",
       "29    437.4\n",
       "30    575.5\n",
       "31    407.6\n",
       "32    682.0\n",
       "33    475.3\n",
       "34    581.3\n",
       "35    646.9\n",
       "Name: Total Sales, dtype: float64"
      ]
     },
     "execution_count": 70,
     "metadata": {},
     "output_type": "execute_result"
    }
   ],
   "source": [
    "seriesOne\n",
    "\n"
   ]
  },
  {
   "cell_type": "code",
   "execution_count": null,
   "id": "7c8e5b58",
   "metadata": {},
   "outputs": [],
   "source": []
  }
 ],
 "metadata": {
  "kernelspec": {
   "display_name": "Python 3 (ipykernel)",
   "language": "python",
   "name": "python3"
  },
  "language_info": {
   "codemirror_mode": {
    "name": "ipython",
    "version": 3
   },
   "file_extension": ".py",
   "mimetype": "text/x-python",
   "name": "python",
   "nbconvert_exporter": "python",
   "pygments_lexer": "ipython3",
   "version": "3.9.7"
  }
 },
 "nbformat": 4,
 "nbformat_minor": 5
}
